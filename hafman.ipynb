{
 "cells": [
  {
   "cell_type": "code",
   "execution_count": 142,
   "metadata": {},
   "outputs": [
    {
     "name": "stdout",
     "output_type": "stream",
     "text": [
      "{'v': 0.000788, 'a': 0.074954, 'l': 0.129681, 'h': 0.07292, 'i': 0.054153, 'o': 0.07651, 'e': 0.114713, 'j': 0.067279, 'g': 0.087195, 'm': 0.13419, 'u': 0.056271, 'f': 0.086017, 'b': 0.045331}\n"
     ]
    },
    {
     "data": {
      "text/plain": [
       "1.0000019999999998"
      ]
     },
     "execution_count": 142,
     "metadata": {},
     "output_type": "execute_result"
    }
   ],
   "source": [
    "import random\n",
    "import string\n",
    "\n",
    "# Генерация случайных ключей и значений\n",
    "letters = string.ascii_lowercase\n",
    "random_dict = {random.choice(letters): random.uniform(0, 1) for i in range(random.randint(5, 26))}\n",
    "# Нормализация значений\n",
    "total = sum(random_dict.values())\n",
    "random_dict = {k: round(v / total, 6) for k, v in random_dict.items()}\n",
    "\n",
    "# random_dict = {'a': 0.4, 'b': 0.15, 'c': 0.15, 'd': 0.15, 'e': 0.15,}\n",
    "print(random_dict)\n",
    "sum(random_dict.values())\n"
   ]
  },
  {
   "cell_type": "code",
   "execution_count": 143,
   "metadata": {},
   "outputs": [
    {
     "data": {
      "text/plain": [
       "{'m': 0.13419,\n",
       " 'l': 0.129681,\n",
       " 'e': 0.114713,\n",
       " 'g': 0.087195,\n",
       " 'f': 0.086017,\n",
       " 'o': 0.07651,\n",
       " 'a': 0.074954,\n",
       " 'h': 0.07292,\n",
       " 'j': 0.067279,\n",
       " 'u': 0.056271,\n",
       " 'i': 0.054153,\n",
       " 'b': 0.045331,\n",
       " 'v': 0.000788}"
      ]
     },
     "execution_count": 143,
     "metadata": {},
     "output_type": "execute_result"
    }
   ],
   "source": [
    "sorted_dict = dict(sorted(random_dict.items(), key=lambda x: x[1], reverse=True))\n",
    "sorted_dict"
   ]
  },
  {
   "cell_type": "code",
   "execution_count": 144,
   "metadata": {},
   "outputs": [
    {
     "name": "stdout",
     "output_type": "stream",
     "text": [
      "{'m': '', 'l': '', 'e': '', 'g': '', 'f': '', 'o': '', 'a': '', 'h': '', 'j': '', 'u': '', 'i': '', 'b': '', 'v': ''}\n"
     ]
    }
   ],
   "source": [
    "l_k1 = list(now for now in sorted_dict) \n",
    "my_d = dict()\n",
    "for now in l_k1:\n",
    "    my_d[now] = ''\n",
    "print(my_d)"
   ]
  },
  {
   "cell_type": "code",
   "execution_count": 145,
   "metadata": {},
   "outputs": [
    {
     "name": "stdout",
     "output_type": "stream",
     "text": [
      "{'m': 0, 'l': 1, 'e': 2, 'g': 3, 'f': 4, 'o': 5, 'a': 6, 'h': 7, 'j': 8, 'u': 9, 'i': 10, 'b': 11, 'v': 12}\n"
     ]
    }
   ],
   "source": [
    "l_k2 = list(now for now in sorted_dict) \n",
    "my_d_i = dict()\n",
    "for i in range(len(l_k1)):\n",
    "    my_d_i[l_k2[i]] = i\n",
    "print(my_d_i)"
   ]
  },
  {
   "cell_type": "code",
   "execution_count": 146,
   "metadata": {},
   "outputs": [
    {
     "name": "stdout",
     "output_type": "stream",
     "text": [
      "{'m': 0.13419, 'l': 0.129681, 'e': 0.114713, 'g': 0.087195, 'f': 0.086017, 'o': 0.07651, 'a': 0.074954, 'h': 0.07292, 'j': 0.067279, 'u': 0.056271, 'i': 0.054153, 'bv': 0.046119}\n",
      "{'m': 0.13419, 'l': 0.129681, 'e': 0.114713, 'ibv': 0.100272, 'g': 0.087195, 'f': 0.086017, 'o': 0.07651, 'a': 0.074954, 'h': 0.07292, 'j': 0.067279, 'u': 0.056271}\n",
      "{'m': 0.13419, 'l': 0.129681, 'ju': 0.12355000000000001, 'e': 0.114713, 'ibv': 0.100272, 'g': 0.087195, 'f': 0.086017, 'o': 0.07651, 'a': 0.074954, 'h': 0.07292}\n",
      "{'ah': 0.147874, 'm': 0.13419, 'l': 0.129681, 'ju': 0.12355000000000001, 'e': 0.114713, 'ibv': 0.100272, 'g': 0.087195, 'f': 0.086017, 'o': 0.07651}\n",
      "{'fo': 0.16252699999999998, 'ah': 0.147874, 'm': 0.13419, 'l': 0.129681, 'ju': 0.12355000000000001, 'e': 0.114713, 'ibv': 0.100272, 'g': 0.087195}\n",
      "{'ibvg': 0.187467, 'fo': 0.16252699999999998, 'ah': 0.147874, 'm': 0.13419, 'l': 0.129681, 'ju': 0.12355000000000001, 'e': 0.114713}\n",
      "{'jue': 0.238263, 'ibvg': 0.187467, 'fo': 0.16252699999999998, 'ah': 0.147874, 'm': 0.13419, 'l': 0.129681}\n",
      "{'ml': 0.26387099999999997, 'jue': 0.238263, 'ibvg': 0.187467, 'fo': 0.16252699999999998, 'ah': 0.147874}\n",
      "{'foah': 0.310401, 'ml': 0.26387099999999997, 'jue': 0.238263, 'ibvg': 0.187467}\n",
      "{'jueibvg': 0.42573, 'foah': 0.310401, 'ml': 0.26387099999999997}\n",
      "{'foahml': 0.5742719999999999, 'jueibvg': 0.42573}\n",
      "{'foahmljueibvg': 1.0000019999999998}\n",
      "{'m': '000', 'l': '100', 'e': '001', 'g': '011', 'f': '0010', 'o': '1010', 'a': '0110', 'h': '1110', 'j': '0101', 'u': '1101', 'i': '0111', 'b': '01111', 'v': '11111'}\n"
     ]
    }
   ],
   "source": [
    "itog_dict = sorted_dict.copy()\n",
    "while len(sorted_dict) != 1:\n",
    "    l_v = list(sorted_dict.values()) \n",
    "    l_k = list(sorted_dict.keys()) \n",
    "    s_v = float(l_v[-2]) + float(l_v[-1])\n",
    "    s_k = str(l_k[-2]) + str(l_k[-1])\n",
    "    if len(str(l_k[-1])) > 1 or len(str(l_k[-2])) > 1:\n",
    "        el_i = '0'\n",
    "        if my_d_i[l_k[-1][0]] > my_d_i[l_k[-2][0]]:\n",
    "            el_i = '1'\n",
    "        for now in str(l_k[-1]):\n",
    "            my_d[now] = my_d[now] + el_i\n",
    "        \n",
    "        n_el_i = str(int(not int(el_i)))\n",
    "        for now in str(l_k[-2]):\n",
    "            my_d[now] = my_d[now] + n_el_i\n",
    "    \n",
    "    elif len(str(l_k[-1])) == 1 and len(str(l_k[-2])) == 1:\n",
    "        el_i1 = '0'\n",
    "        if my_d_i[l_k[-1]] > my_d_i[l_k[-2]]:\n",
    "            el_i1 = '1'\n",
    "        my_d[str(l_k[-1])] = my_d[str(l_k[-1])] + el_i1\n",
    "        \n",
    "        my_d[str(l_k[-2])] = my_d[str(l_k[-2])] + str(int(not int(el_i1)))\n",
    "    temp_dict = sorted_dict\n",
    "    del temp_dict[str(l_k[-1])]\n",
    "    del temp_dict[str(l_k[-2])]\n",
    "    temp_dict[s_k] = s_v\n",
    "    sorted_dict = temp_dict\n",
    "    sorted_dict = dict(sorted(sorted_dict.items(), key=lambda x: x[1], reverse=True))\n",
    "    print(sorted_dict)\n",
    "print(my_d)"
   ]
  },
  {
   "cell_type": "code",
   "execution_count": 147,
   "metadata": {},
   "outputs": [
    {
     "data": {
      "text/plain": [
       "3.5803479999999994"
      ]
     },
     "execution_count": 147,
     "metadata": {},
     "output_type": "execute_result"
    }
   ],
   "source": [
    "pa = 0\n",
    "for k, v in my_d.items():\n",
    "    pa += len(my_d[k]) * random_dict[k]\n",
    "pa"
   ]
  },
  {
   "cell_type": "code",
   "execution_count": 137,
   "metadata": {},
   "outputs": [
    {
     "name": "stdout",
     "output_type": "stream",
     "text": [
      "{'a': 0.400000000000000, 'b': 0.150000000000000, 'c': 0.150000000000000, 'd': 0.150000000000000, 'e': 0.150000000000000}\n",
      "{'a': '', 'b': '', 'c': '', 'd': '', 'e': ''}\n",
      "{'a': 0.400000000000000, 'b': 0.150000000000000, 'c': 0.150000000000000, 'd': 0.150000000000000, 'e': 0.150000000000000}\n",
      "{'a': 0.400000000000000, 'ed': 0.3, 'b': 0.150000000000000, 'c': 0.150000000000000}\n",
      "{'a': '', 'b': '', 'c': '', 'd': '0', 'e': '1'}\n",
      "{'a': 0.400000000000000, 'ed': 0.3, 'b': 0.150000000000000, 'c': 0.150000000000000}\n",
      "{'a': 0.400000000000000, 'ed': 0.3, 'cb': 0.3}\n",
      "{'a': '', 'b': '0', 'c': '1', 'd': '0', 'e': '1'}\n",
      "{'a': 0.400000000000000, 'ed': 0.3, 'cb': 0.3}\n",
      "{'cbed': 0.6, 'a': 0.400000000000000}\n",
      "{'a': '', 'b': '01', 'c': '11', 'd': '00', 'e': '10'}\n",
      "{'cbed': 0.6, 'a': 0.400000000000000}\n",
      "{'a': '1', 'b': '010', 'c': '110', 'd': '000', 'e': '100'}\n"
     ]
    }
   ],
   "source": [
    "while len(sorted_dict) != 1:\n",
    "    print(sorted_dict)\n",
    "    print(my_d)\n",
    "    l_v = list(sorted_dict.values()) \n",
    "    l_k = list(sorted_dict.keys()) \n",
    "    print(sorted_dict)\n",
    "    s_v = float(l_v[-1]) + float(l_v[-2])\n",
    "    s_k = str(l_k[-1]) + str(l_k[-2])\n",
    "    \n",
    "    if len(str(l_k[-1])) > 1 or len(str(l_k[-2])) > 1:\n",
    "        for now in str(l_k[-1]):\n",
    "            my_d[now] = my_d[now] + '1'\n",
    "        \n",
    "        for now in str(l_k[-2]):\n",
    "            my_d[now] = my_d[now] + '0'\n",
    "    \n",
    "    elif len(str(l_k[-1])) == 1 and len(str(l_k[-2])) == 1:\n",
    "\n",
    "        my_d[str(l_k[-1])] = my_d[str(l_k[-1])] + '1'\n",
    "        \n",
    "        my_d[str(l_k[-2])] = my_d[str(l_k[-2])] + '0'\n",
    "        \n",
    "    temp_dict = dict(sorted(sorted_dict.items(), key=lambda x: x[1], reverse=True))\n",
    "    del temp_dict[str(l_k[-1])]\n",
    "    del temp_dict[str(l_k[-2])]\n",
    "    temp_dict[s_k] = s_v\n",
    "    sorted_dict = temp_dict\n",
    "    sorted_dict = dict(sorted(sorted_dict.items(), key=lambda x: x[1], reverse=True))\n",
    "    \n",
    "print(my_d)"
   ]
  },
  {
   "cell_type": "code",
   "execution_count": 140,
   "metadata": {},
   "outputs": [
    {
     "data": {
      "text/plain": [
       "2.20000000000000"
      ]
     },
     "execution_count": 140,
     "metadata": {},
     "output_type": "execute_result"
    }
   ],
   "source": [
    "pa = 0\n",
    "for k, v in my_d.items():\n",
    "    pa += len(my_d[k]) * random_dict[k]\n",
    "pa"
   ]
  },
  {
   "cell_type": "code",
   "execution_count": 139,
   "metadata": {},
   "outputs": [
    {
     "name": "stdout",
     "output_type": "stream",
     "text": [
      "{'a': '1', 'b': '010', 'c': '110', 'd': '000', 'e': '100'}\n"
     ]
    }
   ],
   "source": [
    "while len(sorted_dict) != 1:\n",
    "    print(sorted_dict)\n",
    "    print(my_d)\n",
    "    l_v = list(sorted_dict.values()) \n",
    "    l_k = list(sorted_dict.keys()) \n",
    "    print(sorted_dict)\n",
    "    s_v = float(l_v[-1]) + float(l_v[-2])\n",
    "    s_k = str(l_k[-1]) + str(l_k[-2])\n",
    "    if len(str(l_k[-1])) > 1:\n",
    "        for now in str(l_k[-1]):\n",
    "            my_d[now] = my_d[now] + '1'\n",
    "    if len(str(l_k[-2])) > 1:\n",
    "        for now in str(l_k[-2]):\n",
    "            my_d[now] = my_d[now] + '0'\n",
    "    if len(str(l_k[-1])) == 1:\n",
    "        my_d[str(l_k[-1])] = my_d[str(l_k[-1])] + '1'\n",
    "    if len(str(l_k[-2])) == 1:\n",
    "        my_d[str(l_k[-2])] = my_d[str(l_k[-2])] + '0'\n",
    "    temp_dict = dict(sorted(sorted_dict.items(), key=lambda x: x[1], reverse=True))\n",
    "    del temp_dict[str(l_k[-1])]\n",
    "    del temp_dict[str(l_k[-2])]\n",
    "    temp_dict[s_k] = s_v\n",
    "    sorted_dict = temp_dict\n",
    "    sorted_dict = dict(sorted(sorted_dict.items(), key=lambda x: x[1], reverse=True))\n",
    "    \n",
    "print(my_d)"
   ]
  },
  {
   "cell_type": "code",
   "execution_count": 141,
   "metadata": {},
   "outputs": [
    {
     "data": {
      "text/plain": [
       "2.20000000000000"
      ]
     },
     "execution_count": 141,
     "metadata": {},
     "output_type": "execute_result"
    }
   ],
   "source": [
    "pa = 0\n",
    "for k, v in my_d.items():\n",
    "    pa += len(my_d[k]) * random_dict[k]\n",
    "pa"
   ]
  },
  {
   "cell_type": "code",
   "execution_count": null,
   "metadata": {},
   "outputs": [],
   "source": []
  }
 ],
 "metadata": {
  "kernelspec": {
   "display_name": "SageMath 9.3",
   "language": "sage",
   "name": "sagemath"
  },
  "language_info": {
   "codemirror_mode": {
    "name": "ipython",
    "version": 3
   },
   "file_extension": ".py",
   "mimetype": "text/x-python",
   "name": "python",
   "nbconvert_exporter": "python",
   "pygments_lexer": "ipython3",
   "version": "3.7.10"
  }
 },
 "nbformat": 4,
 "nbformat_minor": 4
}
